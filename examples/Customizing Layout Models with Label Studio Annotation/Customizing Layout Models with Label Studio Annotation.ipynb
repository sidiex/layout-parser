{
  "cells": [
    {
      "cell_type": "markdown",
      "metadata": {
        "id": "7mC7lydmiKWh"
      },
      "source": [
        "# Customizing LayoutParser Models with Label Studio Annotation\n",
        "*With Scientific Document Parsing as an example*"
      ]
    },
    {
      "cell_type": "markdown",
      "metadata": {
        "id": "-ZYq4cR6iKWi"
      },
      "source": [
        "## Prerequisite\n",
        "\n",
        "This tutorial assumes you know about\n",
        "\n",
        "- Intermediate Python  "
      ]
    },
    {
      "cell_type": "markdown",
      "metadata": {
        "id": "GmlGvg_4iKWj"
      },
      "source": [
        "## Introduction\n",
        "\n",
        "### Objectives & Task Overview\n",
        "\n",
        "Please see the attached slides [here](https://szj.io/assets/files/talks/2022-Feb-LayoutParser-and-Label-Studio-Webinar.pdf).\n",
        "\n",
        "### Detailed Steps\n",
        "\n",
        "1. **Define the problem**\n",
        "    - What is the extraction target?\n",
        "    - What can existing models do?\n",
        "    - Do we have available dataset?\n",
        "2. **Create the Training Dataset**\n",
        "    - Obtain the datasets\n",
        "    - Set up Label Studio\n",
        "    - Define the Annotation Schema  \n",
        "    - Annotate and Save\n",
        "3. **Train Layout Models**\n",
        "    - Set up the Machines\n",
        "    - Train Test Split\n",
        "    - Run the LayoutPaser Model Training script\n",
        "4. **Utilize New Layout Models**\n",
        "    - Load Layout Models\n",
        "    - Parse the outputs based on Layout Models"
      ]
    },
    {
      "cell_type": "markdown",
      "metadata": {
        "id": "2KSTkYDKiKWj"
      },
      "source": [
        "## I. Define the Problem"
      ]
    },
    {
      "cell_type": "markdown",
      "metadata": {
        "id": "6tLHIbQHiKWk"
      },
      "source": [
        "### Extraction Target\n",
        "\n",
        "Bibliogrophy item parsing is an important task in scientific document understanding. We want to extract individual bibliogrophy items from the source documents. For example, for the page on the left, we'd like to segment it into \"blocks\" shown on the right."
      ]
    },
    {
      "cell_type": "markdown",
      "metadata": {
        "id": "PrCuWVejiKWk"
      },
      "source": [
        "![task-overview.png](https://github.com/sidiex/layout-parser/blob/main/examples/Customizing%20Layout%20Models%20with%20Label%20Studio%20Annotation/task-overview.png?raw=1)"
      ]
    },
    {
      "cell_type": "markdown",
      "metadata": {
        "id": "KxJmI1-MiKWk"
      },
      "source": [
        "### Existing Models\n",
        "\n",
        "The PubLayNet models maybe the most straightfoward ones to try with:"
      ]
    },
    {
      "cell_type": "code",
      "execution_count": 10,
      "metadata": {
        "colab": {
          "base_uri": "https://localhost:8080/"
        },
        "id": "v0YX0AUiiKWk",
        "outputId": "283fb9ff-8ff1-4023-f873-466e2aa9265e"
      },
      "outputs": [
        {
          "output_type": "stream",
          "name": "stdout",
          "text": [
            "Requirement already satisfied: layoutparser[ocr] in /usr/local/lib/python3.11/dist-packages (0.3.4)\n",
            "Requirement already satisfied: numpy in /usr/local/lib/python3.11/dist-packages (from layoutparser[ocr]) (2.0.2)\n",
            "Requirement already satisfied: opencv-python in /usr/local/lib/python3.11/dist-packages (from layoutparser[ocr]) (4.11.0.86)\n",
            "Requirement already satisfied: scipy in /usr/local/lib/python3.11/dist-packages (from layoutparser[ocr]) (1.14.1)\n",
            "Requirement already satisfied: pandas in /usr/local/lib/python3.11/dist-packages (from layoutparser[ocr]) (2.2.2)\n",
            "Requirement already satisfied: pillow in /usr/local/lib/python3.11/dist-packages (from layoutparser[ocr]) (11.1.0)\n",
            "Requirement already satisfied: pyyaml>=5.1 in /usr/local/lib/python3.11/dist-packages (from layoutparser[ocr]) (6.0.2)\n",
            "Requirement already satisfied: iopath in /usr/local/lib/python3.11/dist-packages (from layoutparser[ocr]) (0.1.10)\n",
            "Requirement already satisfied: pdfplumber in /usr/local/lib/python3.11/dist-packages (from layoutparser[ocr]) (0.11.6)\n",
            "Requirement already satisfied: pdf2image in /usr/local/lib/python3.11/dist-packages (from layoutparser[ocr]) (1.17.0)\n",
            "Requirement already satisfied: google-cloud-vision==1 in /usr/local/lib/python3.11/dist-packages (from layoutparser[ocr]) (1.0.0)\n",
            "Requirement already satisfied: pytesseract in /usr/local/lib/python3.11/dist-packages (from layoutparser[ocr]) (0.3.13)\n",
            "Requirement already satisfied: google-api-core<2.0.0dev,>=1.14.0 in /usr/local/lib/python3.11/dist-packages (from google-api-core[grpc]<2.0.0dev,>=1.14.0->google-cloud-vision==1->layoutparser[ocr]) (1.34.1)\n",
            "Requirement already satisfied: tqdm in /usr/local/lib/python3.11/dist-packages (from iopath->layoutparser[ocr]) (4.67.1)\n",
            "Requirement already satisfied: typing-extensions in /usr/local/lib/python3.11/dist-packages (from iopath->layoutparser[ocr]) (4.13.1)\n",
            "Requirement already satisfied: portalocker in /usr/local/lib/python3.11/dist-packages (from iopath->layoutparser[ocr]) (3.1.1)\n",
            "Requirement already satisfied: python-dateutil>=2.8.2 in /usr/local/lib/python3.11/dist-packages (from pandas->layoutparser[ocr]) (2.8.2)\n",
            "Requirement already satisfied: pytz>=2020.1 in /usr/local/lib/python3.11/dist-packages (from pandas->layoutparser[ocr]) (2025.2)\n",
            "Requirement already satisfied: tzdata>=2022.7 in /usr/local/lib/python3.11/dist-packages (from pandas->layoutparser[ocr]) (2025.2)\n",
            "Requirement already satisfied: pdfminer.six==20250327 in /usr/local/lib/python3.11/dist-packages (from pdfplumber->layoutparser[ocr]) (20250327)\n",
            "Requirement already satisfied: pypdfium2>=4.18.0 in /usr/local/lib/python3.11/dist-packages (from pdfplumber->layoutparser[ocr]) (4.30.1)\n",
            "Requirement already satisfied: charset-normalizer>=2.0.0 in /usr/local/lib/python3.11/dist-packages (from pdfminer.six==20250327->pdfplumber->layoutparser[ocr]) (3.4.1)\n",
            "Requirement already satisfied: cryptography>=36.0.0 in /usr/local/lib/python3.11/dist-packages (from pdfminer.six==20250327->pdfplumber->layoutparser[ocr]) (43.0.3)\n",
            "Requirement already satisfied: packaging>=21.3 in /usr/local/lib/python3.11/dist-packages (from pytesseract->layoutparser[ocr]) (24.2)\n",
            "Requirement already satisfied: googleapis-common-protos<2.0dev,>=1.56.2 in /usr/local/lib/python3.11/dist-packages (from google-api-core<2.0.0dev,>=1.14.0->google-api-core[grpc]<2.0.0dev,>=1.14.0->google-cloud-vision==1->layoutparser[ocr]) (1.69.2)\n",
            "Requirement already satisfied: protobuf!=3.20.0,!=3.20.1,!=4.21.0,!=4.21.1,!=4.21.2,!=4.21.3,!=4.21.4,!=4.21.5,<4.0.0dev,>=3.19.5 in /usr/local/lib/python3.11/dist-packages (from google-api-core<2.0.0dev,>=1.14.0->google-api-core[grpc]<2.0.0dev,>=1.14.0->google-cloud-vision==1->layoutparser[ocr]) (3.20.3)\n",
            "Requirement already satisfied: google-auth<3.0dev,>=1.25.0 in /usr/local/lib/python3.11/dist-packages (from google-api-core<2.0.0dev,>=1.14.0->google-api-core[grpc]<2.0.0dev,>=1.14.0->google-cloud-vision==1->layoutparser[ocr]) (2.38.0)\n",
            "Requirement already satisfied: requests<3.0.0dev,>=2.18.0 in /usr/local/lib/python3.11/dist-packages (from google-api-core<2.0.0dev,>=1.14.0->google-api-core[grpc]<2.0.0dev,>=1.14.0->google-cloud-vision==1->layoutparser[ocr]) (2.32.3)\n",
            "Requirement already satisfied: grpcio<2.0dev,>=1.33.2 in /usr/local/lib/python3.11/dist-packages (from google-api-core[grpc]<2.0.0dev,>=1.14.0->google-cloud-vision==1->layoutparser[ocr]) (1.71.0)\n",
            "Requirement already satisfied: grpcio-status<2.0dev,>=1.33.2 in /usr/local/lib/python3.11/dist-packages (from google-api-core[grpc]<2.0.0dev,>=1.14.0->google-cloud-vision==1->layoutparser[ocr]) (1.48.2)\n",
            "Requirement already satisfied: six>=1.5 in /usr/local/lib/python3.11/dist-packages (from python-dateutil>=2.8.2->pandas->layoutparser[ocr]) (1.17.0)\n",
            "Requirement already satisfied: cffi>=1.12 in /usr/local/lib/python3.11/dist-packages (from cryptography>=36.0.0->pdfminer.six==20250327->pdfplumber->layoutparser[ocr]) (1.17.1)\n",
            "Requirement already satisfied: cachetools<6.0,>=2.0.0 in /usr/local/lib/python3.11/dist-packages (from google-auth<3.0dev,>=1.25.0->google-api-core<2.0.0dev,>=1.14.0->google-api-core[grpc]<2.0.0dev,>=1.14.0->google-cloud-vision==1->layoutparser[ocr]) (5.5.2)\n",
            "Requirement already satisfied: pyasn1-modules>=0.2.1 in /usr/local/lib/python3.11/dist-packages (from google-auth<3.0dev,>=1.25.0->google-api-core<2.0.0dev,>=1.14.0->google-api-core[grpc]<2.0.0dev,>=1.14.0->google-cloud-vision==1->layoutparser[ocr]) (0.4.2)\n",
            "Requirement already satisfied: rsa<5,>=3.1.4 in /usr/local/lib/python3.11/dist-packages (from google-auth<3.0dev,>=1.25.0->google-api-core<2.0.0dev,>=1.14.0->google-api-core[grpc]<2.0.0dev,>=1.14.0->google-cloud-vision==1->layoutparser[ocr]) (4.9)\n",
            "Requirement already satisfied: idna<4,>=2.5 in /usr/local/lib/python3.11/dist-packages (from requests<3.0.0dev,>=2.18.0->google-api-core<2.0.0dev,>=1.14.0->google-api-core[grpc]<2.0.0dev,>=1.14.0->google-cloud-vision==1->layoutparser[ocr]) (3.10)\n",
            "Requirement already satisfied: urllib3<3,>=1.21.1 in /usr/local/lib/python3.11/dist-packages (from requests<3.0.0dev,>=2.18.0->google-api-core<2.0.0dev,>=1.14.0->google-api-core[grpc]<2.0.0dev,>=1.14.0->google-cloud-vision==1->layoutparser[ocr]) (2.3.0)\n",
            "Requirement already satisfied: certifi>=2017.4.17 in /usr/local/lib/python3.11/dist-packages (from requests<3.0.0dev,>=2.18.0->google-api-core<2.0.0dev,>=1.14.0->google-api-core[grpc]<2.0.0dev,>=1.14.0->google-cloud-vision==1->layoutparser[ocr]) (2025.1.31)\n",
            "Requirement already satisfied: pycparser in /usr/local/lib/python3.11/dist-packages (from cffi>=1.12->cryptography>=36.0.0->pdfminer.six==20250327->pdfplumber->layoutparser[ocr]) (2.22)\n",
            "Requirement already satisfied: pyasn1<0.7.0,>=0.6.1 in /usr/local/lib/python3.11/dist-packages (from pyasn1-modules>=0.2.1->google-auth<3.0dev,>=1.25.0->google-api-core<2.0.0dev,>=1.14.0->google-api-core[grpc]<2.0.0dev,>=1.14.0->google-cloud-vision==1->layoutparser[ocr]) (0.6.1)\n"
          ]
        }
      ],
      "source": [
        "!pip install \"layoutparser[ocr]\" # Install OCR toolkit\n",
        "import requests\n",
        "import layoutparser as lp"
      ]
    },
    {
      "cell_type": "code",
      "execution_count": 11,
      "metadata": {
        "id": "wvgkReyliKWl"
      },
      "outputs": [],
      "source": [
        "# Download a test PDF\n",
        "r = requests.get(\"https://arxiv.org/pdf/2106.00676.pdf\")\n",
        "with open(\"test.pdf\", 'wb') as fp:\n",
        "    fp.write(r.content)"
      ]
    },
    {
      "cell_type": "code",
      "execution_count": 12,
      "metadata": {
        "id": "T2-nM09MiKWl",
        "outputId": "4f329b69-b083-4c47-dd89-12ee3e5afcbf",
        "colab": {
          "base_uri": "https://localhost:8080/"
        }
      },
      "outputs": [
        {
          "output_type": "stream",
          "name": "stdout",
          "text": [
            "\r0% [Working]\r            \rHit:1 https://developer.download.nvidia.com/compute/cuda/repos/ubuntu2204/x86_64  InRelease\n",
            "Hit:2 https://cloud.r-project.org/bin/linux/ubuntu jammy-cran40/ InRelease\n",
            "Hit:3 http://security.ubuntu.com/ubuntu jammy-security InRelease\n",
            "Hit:4 https://r2u.stat.illinois.edu/ubuntu jammy InRelease\n",
            "Hit:5 http://archive.ubuntu.com/ubuntu jammy InRelease\n",
            "Hit:6 http://archive.ubuntu.com/ubuntu jammy-updates InRelease\n",
            "Hit:7 http://archive.ubuntu.com/ubuntu jammy-backports InRelease\n",
            "Hit:8 https://ppa.launchpadcontent.net/deadsnakes/ppa/ubuntu jammy InRelease\n",
            "Hit:9 https://ppa.launchpadcontent.net/graphics-drivers/ppa/ubuntu jammy InRelease\n",
            "Hit:10 https://ppa.launchpadcontent.net/ubuntugis/ppa/ubuntu jammy InRelease\n",
            "Reading package lists... Done\n",
            "W: Skipping acquire of configured file 'main/source/Sources' as repository 'https://r2u.stat.illinois.edu/ubuntu jammy InRelease' does not seem to provide it (sources.list entry misspelt?)\n",
            "Reading package lists... Done\n",
            "Building dependency tree... Done\n",
            "Reading state information... Done\n",
            "poppler-utils is already the newest version (22.02.0-2ubuntu0.7).\n",
            "0 upgraded, 0 newly installed, 0 to remove and 47 not upgraded.\n"
          ]
        },
        {
          "output_type": "stream",
          "name": "stderr",
          "text": [
            "WARNING:pdfminer.pdfpage:CropBox missing from /Page, defaulting to MediaBox\n",
            "WARNING:pdfminer.pdfpage:CropBox missing from /Page, defaulting to MediaBox\n",
            "WARNING:pdfminer.pdfpage:CropBox missing from /Page, defaulting to MediaBox\n",
            "WARNING:pdfminer.pdfpage:CropBox missing from /Page, defaulting to MediaBox\n",
            "WARNING:pdfminer.pdfpage:CropBox missing from /Page, defaulting to MediaBox\n",
            "WARNING:pdfminer.pdfpage:CropBox missing from /Page, defaulting to MediaBox\n",
            "WARNING:pdfminer.pdfpage:CropBox missing from /Page, defaulting to MediaBox\n",
            "WARNING:pdfminer.pdfpage:CropBox missing from /Page, defaulting to MediaBox\n",
            "WARNING:pdfminer.pdfpage:CropBox missing from /Page, defaulting to MediaBox\n",
            "WARNING:pdfminer.pdfpage:CropBox missing from /Page, defaulting to MediaBox\n",
            "WARNING:pdfminer.pdfpage:CropBox missing from /Page, defaulting to MediaBox\n",
            "WARNING:pdfminer.pdfpage:CropBox missing from /Page, defaulting to MediaBox\n",
            "WARNING:pdfminer.pdfpage:CropBox missing from /Page, defaulting to MediaBox\n",
            "WARNING:pdfminer.pdfpage:CropBox missing from /Page, defaulting to MediaBox\n",
            "WARNING:pdfminer.pdfpage:CropBox missing from /Page, defaulting to MediaBox\n",
            "WARNING:pdfminer.pdfpage:CropBox missing from /Page, defaulting to MediaBox\n",
            "WARNING:pdfminer.pdfpage:CropBox missing from /Page, defaulting to MediaBox\n"
          ]
        }
      ],
      "source": [
        "!sudo apt-get update\n",
        "!sudo apt-get install poppler-utils\n",
        "pdf_tokens, pdf_images = lp.load_pdf(\"test.pdf\", load_images=True)"
      ]
    },
    {
      "cell_type": "markdown",
      "metadata": {
        "id": "HphHuxx6iKWm"
      },
      "source": [
        "Find a model from the [LayoutParser Open Platform](https://layout-parser.github.io/platform/)"
      ]
    },
    {
      "cell_type": "code",
      "source": [
        "!pip install effdet\n",
        "import effdet"
      ],
      "metadata": {
        "id": "Y6nHWDIN7dPO",
        "outputId": "a010c6f1-da41-4364-c5c1-4db511eeebb6",
        "colab": {
          "base_uri": "https://localhost:8080/"
        }
      },
      "execution_count": 13,
      "outputs": [
        {
          "output_type": "stream",
          "name": "stdout",
          "text": [
            "Requirement already satisfied: effdet in /usr/local/lib/python3.11/dist-packages (0.4.1)\n",
            "Requirement already satisfied: torch>=1.12.1 in /usr/local/lib/python3.11/dist-packages (from effdet) (2.6.0+cu124)\n",
            "Requirement already satisfied: torchvision in /usr/local/lib/python3.11/dist-packages (from effdet) (0.21.0+cu124)\n",
            "Requirement already satisfied: timm>=0.9.2 in /usr/local/lib/python3.11/dist-packages (from effdet) (1.0.15)\n",
            "Requirement already satisfied: pycocotools>=2.0.2 in /usr/local/lib/python3.11/dist-packages (from effdet) (2.0.8)\n",
            "Requirement already satisfied: omegaconf>=2.0 in /usr/local/lib/python3.11/dist-packages (from effdet) (2.3.0)\n",
            "Requirement already satisfied: antlr4-python3-runtime==4.9.* in /usr/local/lib/python3.11/dist-packages (from omegaconf>=2.0->effdet) (4.9.3)\n",
            "Requirement already satisfied: PyYAML>=5.1.0 in /usr/local/lib/python3.11/dist-packages (from omegaconf>=2.0->effdet) (6.0.2)\n",
            "Requirement already satisfied: matplotlib>=2.1.0 in /usr/local/lib/python3.11/dist-packages (from pycocotools>=2.0.2->effdet) (3.10.0)\n",
            "Requirement already satisfied: numpy in /usr/local/lib/python3.11/dist-packages (from pycocotools>=2.0.2->effdet) (2.0.2)\n",
            "Requirement already satisfied: huggingface_hub in /usr/local/lib/python3.11/dist-packages (from timm>=0.9.2->effdet) (0.30.2)\n",
            "Requirement already satisfied: safetensors in /usr/local/lib/python3.11/dist-packages (from timm>=0.9.2->effdet) (0.5.3)\n",
            "Requirement already satisfied: filelock in /usr/local/lib/python3.11/dist-packages (from torch>=1.12.1->effdet) (3.18.0)\n",
            "Requirement already satisfied: typing-extensions>=4.10.0 in /usr/local/lib/python3.11/dist-packages (from torch>=1.12.1->effdet) (4.13.1)\n",
            "Requirement already satisfied: networkx in /usr/local/lib/python3.11/dist-packages (from torch>=1.12.1->effdet) (3.4.2)\n",
            "Requirement already satisfied: jinja2 in /usr/local/lib/python3.11/dist-packages (from torch>=1.12.1->effdet) (3.1.6)\n",
            "Requirement already satisfied: fsspec in /usr/local/lib/python3.11/dist-packages (from torch>=1.12.1->effdet) (2025.3.2)\n",
            "Requirement already satisfied: nvidia-cuda-nvrtc-cu12==12.4.127 in /usr/local/lib/python3.11/dist-packages (from torch>=1.12.1->effdet) (12.4.127)\n",
            "Requirement already satisfied: nvidia-cuda-runtime-cu12==12.4.127 in /usr/local/lib/python3.11/dist-packages (from torch>=1.12.1->effdet) (12.4.127)\n",
            "Requirement already satisfied: nvidia-cuda-cupti-cu12==12.4.127 in /usr/local/lib/python3.11/dist-packages (from torch>=1.12.1->effdet) (12.4.127)\n",
            "Requirement already satisfied: nvidia-cudnn-cu12==9.1.0.70 in /usr/local/lib/python3.11/dist-packages (from torch>=1.12.1->effdet) (9.1.0.70)\n",
            "Requirement already satisfied: nvidia-cublas-cu12==12.4.5.8 in /usr/local/lib/python3.11/dist-packages (from torch>=1.12.1->effdet) (12.4.5.8)\n",
            "Requirement already satisfied: nvidia-cufft-cu12==11.2.1.3 in /usr/local/lib/python3.11/dist-packages (from torch>=1.12.1->effdet) (11.2.1.3)\n",
            "Requirement already satisfied: nvidia-curand-cu12==10.3.5.147 in /usr/local/lib/python3.11/dist-packages (from torch>=1.12.1->effdet) (10.3.5.147)\n",
            "Requirement already satisfied: nvidia-cusolver-cu12==11.6.1.9 in /usr/local/lib/python3.11/dist-packages (from torch>=1.12.1->effdet) (11.6.1.9)\n",
            "Requirement already satisfied: nvidia-cusparse-cu12==12.3.1.170 in /usr/local/lib/python3.11/dist-packages (from torch>=1.12.1->effdet) (12.3.1.170)\n",
            "Requirement already satisfied: nvidia-cusparselt-cu12==0.6.2 in /usr/local/lib/python3.11/dist-packages (from torch>=1.12.1->effdet) (0.6.2)\n",
            "Requirement already satisfied: nvidia-nccl-cu12==2.21.5 in /usr/local/lib/python3.11/dist-packages (from torch>=1.12.1->effdet) (2.21.5)\n",
            "Requirement already satisfied: nvidia-nvtx-cu12==12.4.127 in /usr/local/lib/python3.11/dist-packages (from torch>=1.12.1->effdet) (12.4.127)\n",
            "Requirement already satisfied: nvidia-nvjitlink-cu12==12.4.127 in /usr/local/lib/python3.11/dist-packages (from torch>=1.12.1->effdet) (12.4.127)\n",
            "Requirement already satisfied: triton==3.2.0 in /usr/local/lib/python3.11/dist-packages (from torch>=1.12.1->effdet) (3.2.0)\n",
            "Requirement already satisfied: sympy==1.13.1 in /usr/local/lib/python3.11/dist-packages (from torch>=1.12.1->effdet) (1.13.1)\n",
            "Requirement already satisfied: mpmath<1.4,>=1.1.0 in /usr/local/lib/python3.11/dist-packages (from sympy==1.13.1->torch>=1.12.1->effdet) (1.3.0)\n",
            "Requirement already satisfied: pillow!=8.3.*,>=5.3.0 in /usr/local/lib/python3.11/dist-packages (from torchvision->effdet) (11.1.0)\n",
            "Requirement already satisfied: contourpy>=1.0.1 in /usr/local/lib/python3.11/dist-packages (from matplotlib>=2.1.0->pycocotools>=2.0.2->effdet) (1.3.1)\n",
            "Requirement already satisfied: cycler>=0.10 in /usr/local/lib/python3.11/dist-packages (from matplotlib>=2.1.0->pycocotools>=2.0.2->effdet) (0.12.1)\n",
            "Requirement already satisfied: fonttools>=4.22.0 in /usr/local/lib/python3.11/dist-packages (from matplotlib>=2.1.0->pycocotools>=2.0.2->effdet) (4.57.0)\n",
            "Requirement already satisfied: kiwisolver>=1.3.1 in /usr/local/lib/python3.11/dist-packages (from matplotlib>=2.1.0->pycocotools>=2.0.2->effdet) (1.4.8)\n",
            "Requirement already satisfied: packaging>=20.0 in /usr/local/lib/python3.11/dist-packages (from matplotlib>=2.1.0->pycocotools>=2.0.2->effdet) (24.2)\n",
            "Requirement already satisfied: pyparsing>=2.3.1 in /usr/local/lib/python3.11/dist-packages (from matplotlib>=2.1.0->pycocotools>=2.0.2->effdet) (3.2.3)\n",
            "Requirement already satisfied: python-dateutil>=2.7 in /usr/local/lib/python3.11/dist-packages (from matplotlib>=2.1.0->pycocotools>=2.0.2->effdet) (2.8.2)\n",
            "Requirement already satisfied: requests in /usr/local/lib/python3.11/dist-packages (from huggingface_hub->timm>=0.9.2->effdet) (2.32.3)\n",
            "Requirement already satisfied: tqdm>=4.42.1 in /usr/local/lib/python3.11/dist-packages (from huggingface_hub->timm>=0.9.2->effdet) (4.67.1)\n",
            "Requirement already satisfied: MarkupSafe>=2.0 in /usr/local/lib/python3.11/dist-packages (from jinja2->torch>=1.12.1->effdet) (3.0.2)\n",
            "Requirement already satisfied: six>=1.5 in /usr/local/lib/python3.11/dist-packages (from python-dateutil>=2.7->matplotlib>=2.1.0->pycocotools>=2.0.2->effdet) (1.17.0)\n",
            "Requirement already satisfied: charset-normalizer<4,>=2 in /usr/local/lib/python3.11/dist-packages (from requests->huggingface_hub->timm>=0.9.2->effdet) (3.4.1)\n",
            "Requirement already satisfied: idna<4,>=2.5 in /usr/local/lib/python3.11/dist-packages (from requests->huggingface_hub->timm>=0.9.2->effdet) (3.10)\n",
            "Requirement already satisfied: urllib3<3,>=1.21.1 in /usr/local/lib/python3.11/dist-packages (from requests->huggingface_hub->timm>=0.9.2->effdet) (2.3.0)\n",
            "Requirement already satisfied: certifi>=2017.4.17 in /usr/local/lib/python3.11/dist-packages (from requests->huggingface_hub->timm>=0.9.2->effdet) (2025.1.31)\n"
          ]
        }
      ]
    },
    {
      "cell_type": "code",
      "execution_count": 14,
      "metadata": {
        "id": "vXflTjOZiKWm",
        "outputId": "b58d622e-bc12-4ee8-ccd4-800a9099628c",
        "colab": {
          "base_uri": "https://localhost:8080/",
          "height": 585
        }
      },
      "outputs": [
        {
          "output_type": "error",
          "ename": "ImportError",
          "evalue": "\nEfficientDetLayoutModel requires the effdet library but it was not found in your environment. You can install it with pip:\n`pip install effdet`\n",
          "traceback": [
            "\u001b[0;31m---------------------------------------------------------------------------\u001b[0m",
            "\u001b[0;31mImportError\u001b[0m                               Traceback (most recent call last)",
            "\u001b[0;32m<ipython-input-14-8e178b7e62d5>\u001b[0m in \u001b[0;36m<cell line: 0>\u001b[0;34m()\u001b[0m\n\u001b[0;32m----> 1\u001b[0;31m \u001b[0mmodel\u001b[0m \u001b[0;34m=\u001b[0m \u001b[0mlp\u001b[0m\u001b[0;34m.\u001b[0m\u001b[0mAutoLayoutModel\u001b[0m\u001b[0;34m(\u001b[0m\u001b[0;34m\"lp://efficientdet/PubLayNet/tf_efficientdet_d0\"\u001b[0m\u001b[0;34m)\u001b[0m\u001b[0;34m\u001b[0m\u001b[0;34m\u001b[0m\u001b[0m\n\u001b[0m",
            "\u001b[0;32m/usr/local/lib/python3.11/dist-packages/layoutparser/models/auto_layoutmodel.py\u001b[0m in \u001b[0;36mAutoLayoutModel\u001b[0;34m(config_path, model_path, label_map, device, extra_config)\u001b[0m\n\u001b[1;32m     62\u001b[0m     \u001b[0;32mfor\u001b[0m \u001b[0mbackend_name\u001b[0m \u001b[0;32min\u001b[0m \u001b[0mALL_AVAILABLE_BACKENDS\u001b[0m\u001b[0;34m:\u001b[0m\u001b[0;34m\u001b[0m\u001b[0;34m\u001b[0m\u001b[0m\n\u001b[1;32m     63\u001b[0m         \u001b[0;32mif\u001b[0m \u001b[0mbackend_name\u001b[0m \u001b[0;32min\u001b[0m \u001b[0mconfig_path\u001b[0m\u001b[0;34m:\u001b[0m\u001b[0;34m\u001b[0m\u001b[0;34m\u001b[0m\u001b[0m\n\u001b[0;32m---> 64\u001b[0;31m             return ALL_AVAILABLE_BACKENDS[backend_name](\n\u001b[0m\u001b[1;32m     65\u001b[0m                 \u001b[0mconfig_path\u001b[0m\u001b[0;34m,\u001b[0m\u001b[0;34m\u001b[0m\u001b[0;34m\u001b[0m\u001b[0m\n\u001b[1;32m     66\u001b[0m                 \u001b[0mmodel_path\u001b[0m\u001b[0;34m=\u001b[0m\u001b[0mmodel_path\u001b[0m\u001b[0;34m,\u001b[0m\u001b[0;34m\u001b[0m\u001b[0;34m\u001b[0m\u001b[0m\n",
            "\u001b[0;32m/usr/local/lib/python3.11/dist-packages/layoutparser/models/base_layoutmodel.py\u001b[0m in \u001b[0;36m__new__\u001b[0;34m(cls, *args, **kwargs)\u001b[0m\n\u001b[1;32m     85\u001b[0m     \u001b[0;32mdef\u001b[0m \u001b[0m__new__\u001b[0m\u001b[0;34m(\u001b[0m\u001b[0mcls\u001b[0m\u001b[0;34m,\u001b[0m \u001b[0;34m*\u001b[0m\u001b[0margs\u001b[0m\u001b[0;34m,\u001b[0m \u001b[0;34m**\u001b[0m\u001b[0mkwargs\u001b[0m\u001b[0;34m)\u001b[0m\u001b[0;34m:\u001b[0m\u001b[0;34m\u001b[0m\u001b[0;34m\u001b[0m\u001b[0m\n\u001b[1;32m     86\u001b[0m \u001b[0;34m\u001b[0m\u001b[0m\n\u001b[0;32m---> 87\u001b[0;31m         \u001b[0mrequires_backends\u001b[0m\u001b[0;34m(\u001b[0m\u001b[0mcls\u001b[0m\u001b[0;34m,\u001b[0m \u001b[0mcls\u001b[0m\u001b[0;34m.\u001b[0m\u001b[0mDEPENDENCIES\u001b[0m\u001b[0;34m)\u001b[0m\u001b[0;34m\u001b[0m\u001b[0;34m\u001b[0m\u001b[0m\n\u001b[0m\u001b[1;32m     88\u001b[0m         \u001b[0;32mreturn\u001b[0m \u001b[0msuper\u001b[0m\u001b[0;34m(\u001b[0m\u001b[0;34m)\u001b[0m\u001b[0;34m.\u001b[0m\u001b[0m__new__\u001b[0m\u001b[0;34m(\u001b[0m\u001b[0mcls\u001b[0m\u001b[0;34m)\u001b[0m\u001b[0;34m\u001b[0m\u001b[0;34m\u001b[0m\u001b[0m\n",
            "\u001b[0;32m/usr/local/lib/python3.11/dist-packages/layoutparser/file_utils.py\u001b[0m in \u001b[0;36mrequires_backends\u001b[0;34m(obj, backends)\u001b[0m\n\u001b[1;32m    173\u001b[0m     \u001b[0mname\u001b[0m \u001b[0;34m=\u001b[0m \u001b[0mobj\u001b[0m\u001b[0;34m.\u001b[0m\u001b[0m__name__\u001b[0m \u001b[0;32mif\u001b[0m \u001b[0mhasattr\u001b[0m\u001b[0;34m(\u001b[0m\u001b[0mobj\u001b[0m\u001b[0;34m,\u001b[0m \u001b[0;34m\"__name__\"\u001b[0m\u001b[0;34m)\u001b[0m \u001b[0;32melse\u001b[0m \u001b[0mobj\u001b[0m\u001b[0;34m.\u001b[0m\u001b[0m__class__\u001b[0m\u001b[0;34m.\u001b[0m\u001b[0m__name__\u001b[0m\u001b[0;34m\u001b[0m\u001b[0;34m\u001b[0m\u001b[0m\n\u001b[1;32m    174\u001b[0m     \u001b[0;32mif\u001b[0m \u001b[0;32mnot\u001b[0m \u001b[0mall\u001b[0m\u001b[0;34m(\u001b[0m\u001b[0mBACKENDS_MAPPING\u001b[0m\u001b[0;34m[\u001b[0m\u001b[0mbackend\u001b[0m\u001b[0;34m]\u001b[0m\u001b[0;34m[\u001b[0m\u001b[0;36m0\u001b[0m\u001b[0;34m]\u001b[0m\u001b[0;34m(\u001b[0m\u001b[0;34m)\u001b[0m \u001b[0;32mfor\u001b[0m \u001b[0mbackend\u001b[0m \u001b[0;32min\u001b[0m \u001b[0mbackends\u001b[0m\u001b[0;34m)\u001b[0m\u001b[0;34m:\u001b[0m\u001b[0;34m\u001b[0m\u001b[0;34m\u001b[0m\u001b[0m\n\u001b[0;32m--> 175\u001b[0;31m         raise ImportError(\n\u001b[0m\u001b[1;32m    176\u001b[0m             \u001b[0;34m\"\"\u001b[0m\u001b[0;34m.\u001b[0m\u001b[0mjoin\u001b[0m\u001b[0;34m(\u001b[0m\u001b[0;34m[\u001b[0m\u001b[0mBACKENDS_MAPPING\u001b[0m\u001b[0;34m[\u001b[0m\u001b[0mbackend\u001b[0m\u001b[0;34m]\u001b[0m\u001b[0;34m[\u001b[0m\u001b[0;36m1\u001b[0m\u001b[0;34m]\u001b[0m\u001b[0;34m.\u001b[0m\u001b[0mformat\u001b[0m\u001b[0;34m(\u001b[0m\u001b[0mname\u001b[0m\u001b[0;34m)\u001b[0m \u001b[0;32mfor\u001b[0m \u001b[0mbackend\u001b[0m \u001b[0;32min\u001b[0m \u001b[0mbackends\u001b[0m\u001b[0;34m]\u001b[0m\u001b[0;34m)\u001b[0m\u001b[0;34m\u001b[0m\u001b[0;34m\u001b[0m\u001b[0m\n\u001b[1;32m    177\u001b[0m         )\n",
            "\u001b[0;31mImportError\u001b[0m: \nEfficientDetLayoutModel requires the effdet library but it was not found in your environment. You can install it with pip:\n`pip install effdet`\n",
            "",
            "\u001b[0;31m---------------------------------------------------------------------------\u001b[0;32m\nNOTE: If your import is failing due to a missing package, you can\nmanually install dependencies using either !pip or !apt.\n\nTo view examples of installing some common dependencies, click the\n\"Open Examples\" button below.\n\u001b[0;31m---------------------------------------------------------------------------\u001b[0m\n"
          ],
          "errorDetails": {
            "actions": [
              {
                "action": "open_url",
                "actionText": "Open Examples",
                "url": "/notebooks/snippets/importing_libraries.ipynb"
              }
            ]
          }
        }
      ],
      "source": [
        "model = lp.AutoLayoutModel(\"lp://efficientdet/PubLayNet/tf_efficientdet_d0\")"
      ]
    },
    {
      "cell_type": "code",
      "execution_count": null,
      "metadata": {
        "id": "dsCPpr6WiKWm"
      },
      "outputs": [],
      "source": [
        "layout = model.detect(pdf_images[11]) # The page with reference"
      ]
    },
    {
      "cell_type": "code",
      "execution_count": null,
      "metadata": {
        "tags": [],
        "id": "0L7idXmOiKWm"
      },
      "outputs": [],
      "source": [
        "lp.draw_box(pdf_images[11], layout)"
      ]
    },
    {
      "cell_type": "markdown",
      "metadata": {
        "id": "r84rierSiKWn"
      },
      "source": [
        "### Existing Datasets?\n",
        "\n",
        ":("
      ]
    },
    {
      "cell_type": "markdown",
      "metadata": {
        "id": "j3JkrvcmiKWn"
      },
      "source": [
        "## II. Create a Training Dataset"
      ]
    },
    {
      "cell_type": "markdown",
      "metadata": {
        "id": "Yyv5YVBdiKWn"
      },
      "source": [
        "### Obtain the Source Data\n"
      ]
    },
    {
      "cell_type": "markdown",
      "metadata": {
        "id": "_jIJrYh_iKWn"
      },
      "source": [
        "### Set up Label Studio\n",
        "\n",
        "Please follow the instructions on the [Label Studio Github Repo](https://github.com/heartexlabs/label-studio). I used the following configurations for setting up the annotation task.\n",
        "\n",
        "```bash\n",
        "# Installation\n",
        "git clone https://github.com/heartexlabs/label-studio.git\n",
        "pip install -e .\n",
        "\n",
        "# Starting the service\n",
        "python label_studio/manage.py migrate\n",
        "python label_studio/manage.py runserver\n",
        "```\n",
        "\n",
        "After starting Label Studio on your local machine, you can click [here](http://localhost:8080/) for the running service.\n",
        "\n",
        "Also here is the used labelstudio interface config:\n",
        "\n",
        "```html\n",
        "<View style=\"display: flex;\">\n",
        "  <View style=\"width: 600px\">\n",
        "    <Image name=\"image\" value=\"$image\"/>\n",
        "  </View>\n",
        "  \n",
        "  <View style=\"width: 150px; padding: 0 1em; margin-right: 0.5em; background: #f1f1f1; border-radius: 3px\">\n",
        "  <RectangleLabels name=\"label\" toName=\"image\">\n",
        "    <Label value=\"BibItem\" background=\"#FFA39E\"></Label>\n",
        "  </RectangleLabels>\n",
        "  </View>\n",
        "</View>\n",
        "```"
      ]
    },
    {
      "cell_type": "markdown",
      "metadata": {
        "id": "bLe2ng6PiKWo"
      },
      "source": [
        "### Downlaod the Annotation Examples  "
      ]
    },
    {
      "cell_type": "markdown",
      "metadata": {
        "id": "JFGLyz_aiKWo"
      },
      "source": [
        "You can run `download_annotation.py` in this folder to download the annotation data:\n",
        "\n",
        "```bash\n",
        "# pip install layoutparser\n",
        "python download_annotation.py\n",
        "```\n",
        "\n",
        "It will download a small subset of data for demostration purpose, and you might need to label more samples in practice to train a better model."
      ]
    },
    {
      "cell_type": "markdown",
      "metadata": {
        "id": "Vut0MiiQiKWo"
      },
      "source": [
        "### Check the Annotated Data"
      ]
    },
    {
      "cell_type": "markdown",
      "metadata": {
        "id": "-eRk91NOiKWo"
      },
      "source": [
        "The script is based on this [layout parser example tutorial](https://layout-parser.readthedocs.io/en/latest/example/load_coco/index.html)."
      ]
    },
    {
      "cell_type": "code",
      "execution_count": null,
      "metadata": {
        "id": "DACZkdFciKWo"
      },
      "outputs": [],
      "source": [
        "from pycocotools.coco import COCO\n",
        "import layoutparser as lp\n",
        "import random\n",
        "import cv2\n",
        "\n",
        "def load_coco_annotations(annotations, coco=None):\n",
        "    \"\"\"\n",
        "    Args:\n",
        "        annotations (List):\n",
        "            a list of coco annotaions for the current image\n",
        "        coco (`optional`, defaults to `False`):\n",
        "            COCO annotation object instance. If set, this function will\n",
        "            convert the loaded annotation category ids to category names\n",
        "            set in COCO.categories\n",
        "    \"\"\"\n",
        "    layout = lp.Layout()\n",
        "\n",
        "    for ele in annotations:\n",
        "\n",
        "        x, y, w, h = ele['bbox']\n",
        "\n",
        "        layout.append(\n",
        "            lp.TextBlock(\n",
        "                block = lp.Rectangle(x, y, w+x, h+y),\n",
        "                type  = ele['category_id'] if coco is None else coco.cats[ele['category_id']]['name'],\n",
        "                id = ele['id']\n",
        "            )\n",
        "        )\n",
        "\n",
        "    return layout"
      ]
    },
    {
      "cell_type": "code",
      "execution_count": null,
      "metadata": {
        "id": "nW5N9D-WiKWo"
      },
      "outputs": [],
      "source": [
        "!wget https://raw.githubusercontent.com/Layout-Parser/layout-parser/refs/heads/main/examples/Customizing%20Layout%20Models%20with%20Label%20Studio%20Annotation/download_annotation.py\n",
        "!python download_annotation.py\n",
        "COCO_ANNO_PATH = 'downloaded-annotations/result.json'\n",
        "COCO_IMG_PATH  = 'downloaded-annotations/'\n",
        "\n",
        "coco = COCO(COCO_ANNO_PATH)"
      ]
    },
    {
      "cell_type": "code",
      "execution_count": null,
      "metadata": {
        "tags": [],
        "id": "IyV0EiB8iKWp"
      },
      "outputs": [],
      "source": [
        "for image_id in random.sample(list(coco.imgs.keys()), 2):\n",
        "    image_info = coco.imgs[image_id]\n",
        "    annotations = coco.loadAnns(coco.getAnnIds([image_id]))\n",
        "\n",
        "    image = cv2.imread(f'{COCO_IMG_PATH}/{image_info[\"file_name\"]}')\n",
        "    layout = load_coco_annotations(annotations, coco)\n",
        "\n",
        "    viz = lp.draw_box(image[...,::-1], layout)\n",
        "    display(viz) # show the results"
      ]
    },
    {
      "cell_type": "markdown",
      "metadata": {
        "id": "9_6P3p69iKWp"
      },
      "source": [
        "### [Optional] Define the Annotation Schema\n",
        "\n",
        "- Rethink why models are needed?\n",
        "- Labeling Schema\n",
        "  - Go through examples\n",
        "    - Gather >30 diverse examples from the task\n",
        "    - Go through them and take notes\n",
        "      - Keep an eye on what are the uniquely different types of segments to be predicted?\n",
        "  - Define the classes\n",
        "    - Write definition based on visual features as clear as you can\n",
        "      - Good example:\n",
        "        - The title block should be a short piece of bold text; it usually have one line or two; it usually appear at the first page of the document\n",
        "      - Bad example:\n",
        "        - Annotate the document title region as a title block\n",
        "    - Add image examples\n",
        "      - If possible, also include ambiguous or counter examples"
      ]
    },
    {
      "cell_type": "markdown",
      "metadata": {
        "id": "fzeW4BuIiKWp"
      },
      "source": [
        "### [Optional] Advanced Topic: Active Learning\n",
        "\n",
        "You can find more about this topic in [our recent paper](https://arxiv.org/pdf/2010.01762.pdf)."
      ]
    },
    {
      "cell_type": "markdown",
      "metadata": {
        "id": "y3w2WlByiKWp"
      },
      "source": [
        "## III. Layout Model Training"
      ]
    },
    {
      "cell_type": "markdown",
      "metadata": {
        "id": "MmJx5TZxiKWp"
      },
      "source": [
        "```bash\n",
        "git clone git@github.com:Layout-Parser/layout-model-training.git\n",
        "```"
      ]
    },
    {
      "cell_type": "code",
      "source": [
        "!git clone https://github.com/Layout-Parser/layout-model-training.git"
      ],
      "metadata": {
        "id": "eze5I6_NF5oL"
      },
      "execution_count": null,
      "outputs": []
    },
    {
      "cell_type": "markdown",
      "metadata": {
        "id": "3hyhhWGGiKWq"
      },
      "source": [
        "### Train-Test Split\n",
        "\n",
        "```bash\n",
        "python cocosplit.py \\                                  \n",
        "    --annotation-path     ../data/bib/result.json \\\n",
        "    --split-ratio         0.85 \\\n",
        "    --train               ../data/bib/train.json \\\n",
        "    --test                ../data/bib/test.json\n",
        "```"
      ]
    },
    {
      "cell_type": "code",
      "source": [
        "!pip install funcy\n",
        "!pip install scikit-multilearn\n",
        "\n",
        "!wget https://raw.githubusercontent.com/akarazniewicz/cocosplit/refs/heads/master/cocosplit.py"
      ],
      "metadata": {
        "id": "TeIStr4BKwlp"
      },
      "execution_count": null,
      "outputs": []
    },
    {
      "cell_type": "markdown",
      "metadata": {
        "id": "m6XL7Ce8iKWq"
      },
      "source": [
        "### Run Training\n",
        "\n",
        "1. Modify the `train_bib.sh` script\n",
        "2. Run the following command\n",
        "\n",
        "    ```bash\n",
        "    bash train_bib.sh\n",
        "    ```"
      ]
    },
    {
      "cell_type": "markdown",
      "metadata": {
        "id": "P_F8UNH7iKWq"
      },
      "source": [
        "## IV. Use of the Layout Models"
      ]
    },
    {
      "cell_type": "markdown",
      "metadata": {
        "id": "xWBLyRTaiKWq"
      },
      "source": [
        "### Load Newly Trained Layout Models"
      ]
    },
    {
      "cell_type": "code",
      "execution_count": null,
      "metadata": {
        "id": "gOBtXvQsiKWq"
      },
      "outputs": [],
      "source": [
        "!pip install 'git+https://github.com/facebookresearch/detectron2.git'\n",
        "\n",
        "!pip install layoutparser torchvision && pip install \"detectron2@git+https://github.com/facebookresearch/detectron2.git@v0.5#egg=detectron2\"\n",
        "model = lp.Detectron2LayoutModel(\n",
        "    config_path = \"layout-model-training/outputs/bib/fast_rcnn_R_50_FPN_3x/config.yaml\",\n",
        "    model_path = \"layout-model-training/outputs/bib/fast_rcnn_R_50_FPN_3x/model_final.pth\",\n",
        "    extra_config = [\"MODEL.ROI_HEADS.SCORE_THRESH_TEST\", 0.8] # <-- Only output high accuracy preds\n",
        ")"
      ]
    },
    {
      "cell_type": "code",
      "execution_count": null,
      "metadata": {
        "id": "_Cggm0jviKWr"
      },
      "outputs": [],
      "source": [
        "layout = model.detect(pdf_images[11])"
      ]
    },
    {
      "cell_type": "code",
      "execution_count": null,
      "metadata": {
        "id": "L2VyWOsEiKWr"
      },
      "outputs": [],
      "source": [
        "lp.draw_box(pdf_images[11], layout)"
      ]
    },
    {
      "cell_type": "code",
      "execution_count": null,
      "metadata": {
        "id": "LSScD_3uiKWr"
      },
      "outputs": [],
      "source": [
        "# Download another PDF\n",
        "r = requests.get(\"https://arxiv.org/pdf/2004.07180.pdf\")\n",
        "with open(\"test2.pdf\", 'wb') as fp:\n",
        "    fp.write(r.content )\n",
        "\n",
        "pdf_tokens, pdf_images = lp.load_pdf(\"test2.pdf\", load_images=True)"
      ]
    },
    {
      "cell_type": "code",
      "execution_count": null,
      "metadata": {
        "tags": [],
        "id": "BH0j14MyiKWr"
      },
      "outputs": [],
      "source": [
        "layout = model.detect(pdf_images[8])\n",
        "lp.draw_box(pdf_images[8], layout)"
      ]
    },
    {
      "cell_type": "code",
      "execution_count": null,
      "metadata": {
        "id": "FTIeRXhGiKWr"
      },
      "outputs": [],
      "source": [
        "layout = model.detect(pdf_images[9])\n",
        "lp.draw_box(pdf_images[9], layout)"
      ]
    },
    {
      "cell_type": "markdown",
      "metadata": {
        "id": "hZOBIzYAiKW1"
      },
      "source": [
        "### Parse Structured Data from Documents"
      ]
    },
    {
      "cell_type": "code",
      "execution_count": null,
      "metadata": {
        "tags": [],
        "id": "iJNhyxBTiKW1"
      },
      "outputs": [],
      "source": [
        "for page_index in [8, 9, 10]: #Reference Section\n",
        "    bib_items = model.detect(pdf_images[page_index])\n",
        "    break"
      ]
    },
    {
      "cell_type": "code",
      "execution_count": null,
      "metadata": {
        "id": "mfgAwmOTiKW1"
      },
      "outputs": [],
      "source": [
        "for bib_item in bib_items:\n",
        "    bib_tokens = pdf_tokens[page_index].filter_by(bib_item, center=True)\n",
        "    break"
      ]
    },
    {
      "cell_type": "markdown",
      "metadata": {
        "id": "knm5ddAziKW2"
      },
      "source": [
        "Check what's inside each bib_item block?"
      ]
    },
    {
      "cell_type": "code",
      "execution_count": null,
      "metadata": {
        "tags": [],
        "id": "_DVXDY1DiKW2"
      },
      "outputs": [],
      "source": [
        "viz = lp.draw_box(pdf_images[page_index], bib_tokens, color_map={}, box_alpha=0.2, box_width=0)\n",
        "viz"
      ]
    },
    {
      "cell_type": "code",
      "execution_count": null,
      "metadata": {
        "id": "4e19lqLFiKW2"
      },
      "outputs": [],
      "source": [
        "lp.draw_box(viz, [bib_item], color_map={}) # <- Overlay bib-item block tokens onto bib_tokens"
      ]
    },
    {
      "cell_type": "code",
      "execution_count": null,
      "metadata": {
        "id": "dC1OFSnUiKW2"
      },
      "outputs": [],
      "source": [
        "\" \".join(bib_tokens.get_texts())"
      ]
    },
    {
      "cell_type": "markdown",
      "metadata": {
        "id": "-TeEHDbniKW3"
      },
      "source": [
        "Combin them together:"
      ]
    },
    {
      "cell_type": "code",
      "execution_count": null,
      "metadata": {
        "id": "MoFPpeYFiKW3"
      },
      "outputs": [],
      "source": [
        "from collections import defaultdict\n",
        "pdf_bibs = defaultdict(list)\n",
        "\n",
        "for page_index in [8, 9, 10]: # Reference Section\n",
        "    bib_items = model.detect(pdf_images[page_index])\n",
        "    display(lp.draw_box(pdf_images[page_index], bib_items))\n",
        "\n",
        "    for bib_item in bib_items:\n",
        "        bib_tokens = pdf_tokens[page_index].filter_by(bib_item, center=True)\n",
        "        bib_text = \" \".join(bib_tokens.get_texts())\n",
        "        pdf_bibs[page_index].append(bib_text)"
      ]
    },
    {
      "cell_type": "code",
      "execution_count": null,
      "metadata": {
        "tags": [],
        "id": "0ttd1AfJiKW3"
      },
      "outputs": [],
      "source": [
        "import pandas as pd\n",
        "\n",
        "(pd\n",
        " .DataFrame(tuple(pdf_bibs.items()),\n",
        "             columns=['page_index', 'bib-item'])\n",
        " .explode('bib-item')\n",
        " .reset_index(drop=True)\n",
        ")"
      ]
    },
    {
      "cell_type": "markdown",
      "metadata": {
        "id": "I3YMi_fbiKW4"
      },
      "source": [
        "### Incorrect order of bib items -- Can we do better?"
      ]
    },
    {
      "cell_type": "code",
      "execution_count": null,
      "metadata": {
        "id": "6k3NTESGiKW4"
      },
      "outputs": [],
      "source": [
        "pdf_tokens[0][1].id"
      ]
    },
    {
      "cell_type": "code",
      "execution_count": null,
      "metadata": {
        "id": "ehwvRkF7iKW4"
      },
      "outputs": [],
      "source": [
        "pdf_bibs = {}\n",
        "\n",
        "for page_index in [8, 9, 10]: #Reference Section\n",
        "    bib_items = model.detect(pdf_images[page_index])\n",
        "\n",
        "    page_bib_tokens = []\n",
        "    for bib_item in bib_items:\n",
        "        bib_tokens = pdf_tokens[page_index].filter_by(bib_item, center=True)\n",
        "        page_bib_tokens.append(bib_tokens)\n",
        "\n",
        "    page_bib_tokens = sorted(page_bib_tokens, key=lambda tokens: min([ele.id for ele in tokens]))\n",
        "    # Sort them using PDF Token Indices\n",
        "\n",
        "    pdf_bibs[page_index] = [\" \".join(bib_tokens.get_texts()) for bib_tokens in page_bib_tokens]"
      ]
    },
    {
      "cell_type": "code",
      "execution_count": null,
      "metadata": {
        "id": "hkBd8tm4iKW4"
      },
      "outputs": [],
      "source": [
        "lp.draw_box(pdf_images[page_index], bib_items, show_element_id=True, id_font_size=12)"
      ]
    },
    {
      "cell_type": "code",
      "execution_count": null,
      "metadata": {
        "id": "ddK5heebiKW4"
      },
      "outputs": [],
      "source": [
        "(pd\n",
        " .DataFrame(tuple(pdf_bibs.items()),\n",
        "             columns=['page_index', 'bib-item'])\n",
        " .explode('bib-item')\n",
        " .reset_index(drop=True)\n",
        ")[:10]"
      ]
    },
    {
      "cell_type": "code",
      "execution_count": null,
      "metadata": {
        "id": "3vmTSUyriKW5"
      },
      "outputs": [],
      "source": [
        "pdf_images[9]"
      ]
    }
  ],
  "metadata": {
    "interpreter": {
      "hash": "ba9dd49ad2f359a64df0aa3f7d31e9127bb84b1d1d2a21e15d00155369c5e9e8"
    },
    "kernelspec": {
      "display_name": "Python 3",
      "language": "python",
      "name": "python3"
    },
    "language_info": {
      "codemirror_mode": {
        "name": "ipython",
        "version": 3
      },
      "file_extension": ".py",
      "mimetype": "text/x-python",
      "name": "python",
      "nbconvert_exporter": "python",
      "pygments_lexer": "ipython3",
      "version": "3.8.3"
    },
    "colab": {
      "provenance": []
    }
  },
  "nbformat": 4,
  "nbformat_minor": 0
}